{
 "cells": [
  {
   "cell_type": "code",
   "execution_count": 1,
   "metadata": {},
   "outputs": [],
   "source": [
    "#MIT License\n",
    "#\n",
    "#Copyright (c) 2023 Pierre Michel Joubert\n",
    "#\n",
    "#Permission is hereby granted, free of charge, to any person obtaining a copy\n",
    "#of this software and associated documentation files (the \"Software\"), to deal\n",
    "#in the Software without restriction, including without limitation the rights\n",
    "#to use, copy, modify, merge, publish, distribute, sublicense, and/or sell\n",
    "#copies of the Software, and to permit persons to whom the Software is\n",
    "#furnished to do so, subject to the following conditions:\n",
    "#\n",
    "#The above copyright notice and this permission notice shall be included in all\n",
    "#copies or substantial portions of the Software.\n",
    "#\n",
    "#THE SOFTWARE IS PROVIDED \"AS IS\", WITHOUT WARRANTY OF ANY KIND, EXPRESS OR\n",
    "#IMPLIED, INCLUDING BUT NOT LIMITED TO THE WARRANTIES OF MERCHANTABILITY,\n",
    "#FITNESS FOR A PARTICULAR PURPOSE AND NONINFRINGEMENT. IN NO EVENT SHALL THE\n",
    "#AUTHORS OR COPYRIGHT HOLDERS BE LIABLE FOR ANY CLAIM, DAMAGES OR OTHER\n",
    "#LIABILITY, WHETHER IN AN ACTION OF CONTRACT, TORT OR OTHERWISE, ARISING FROM,\n",
    "#OUT OF OR IN CONNECTION WITH THE SOFTWARE OR THE USE OR OTHER DEALINGS IN THE\n",
    "#SOFTWARE.\n",
    "import pandas as pd\n",
    "from collections import Counter\n",
    "import csv\n",
    "import requests\n",
    "import random\n",
    "import pickle\n",
    "import matplotlib.pyplot as plt\n",
    "import numpy as np"
   ]
  },
  {
   "cell_type": "code",
   "execution_count": 2,
   "metadata": {},
   "outputs": [],
   "source": [
    "## read in orthogroups\n",
    "og_w_b71 = '../pipeline_methods/Orthogroups.tsv'\n",
    "og_w_b71_df = pd.read_csv(og_w_b71, dtype='string', sep='\\t', index_col = 0)"
   ]
  },
  {
   "cell_type": "code",
   "execution_count": 3,
   "metadata": {},
   "outputs": [],
   "source": [
    "## to get the og that a gene belongs to for orthogrouping\n",
    "df_lol = og_w_b71_df.values.tolist()\n",
    "og_dict_w_b71 = {}\n",
    "\n",
    "for i, row in enumerate(df_lol):\n",
    "    og = og_w_b71_df.index[i]\n",
    "    for cell in row:\n",
    "        if not pd.isnull(cell):\n",
    "            for protein in cell.split(', '):\n",
    "                og_dict_w_b71[protein] = og"
   ]
  },
  {
   "cell_type": "code",
   "execution_count": 4,
   "metadata": {},
   "outputs": [],
   "source": [
    "## to get all genes associated with one OG for orthogrouping\n",
    "genes_per_og_w_b71 = {}\n",
    "\n",
    "for gene in og_dict_w_b71:\n",
    "    og = og_dict_w_b71[gene]\n",
    "    if og not in genes_per_og_w_b71:\n",
    "        genes_per_og_w_b71[og] = []\n",
    "    genes_per_og_w_b71[og].append(gene)"
   ]
  },
  {
   "cell_type": "code",
   "execution_count": 5,
   "metadata": {},
   "outputs": [],
   "source": [
    "input_files = [\n",
    "    'B71_b71_assembly_complete_medium_expression.txt',\n",
    "    'B71_b71_assembly_complete_medium_in_planta_expression.txt'\n",
    "]\n",
    "\n",
    "output_files =[\n",
    "    'b71_assembly_complete_medium_expression_per_og.txt',\n",
    "    'b71_assembly_complete_medium_in_planta_expression_per_og.txt'\n",
    "]"
   ]
  },
  {
   "cell_type": "code",
   "execution_count": 13,
   "metadata": {},
   "outputs": [
    {
     "name": "stdout",
     "output_type": "stream",
     "text": [
      "B71_b71_assembly_complete_medium_expression.txt\n",
      "4289\n",
      "B71_b71_assembly_complete_medium_in_planta_expression.txt\n",
      "4289\n"
     ]
    }
   ],
   "source": [
    "for i in range(len(input_files)):\n",
    "    input_file = input_files[i]\n",
    "    print(input_file)\n",
    "    output_file = output_files[i]\n",
    "    ## get signal per gene\n",
    "    signal_per_gene_dict = {}\n",
    "    with open(input_file, newline = '') as file:\n",
    "        file_reader = csv.reader(file, delimiter = '\\t')\n",
    "        for row in file_reader:\n",
    "            if \"ID=\" in row[0]:\n",
    "                gene = row[0].split(';')[0][3:]\n",
    "            else:\n",
    "                gene = row[0][:-2]\n",
    "            signal_per_gene_dict[gene] = float(row[1])\n",
    "    # organize by orthogroup\n",
    "    og_signal_w_b71 = {}\n",
    "    for og in genes_per_og_w_b71:\n",
    "        og_signal_w_b71[og] = []\n",
    "        for gene in genes_per_og_w_b71[og]:\n",
    "            if \"GCA004785725.2\" in gene:\n",
    "                og_signal_w_b71[og].append(signal_per_gene_dict[gene])\n",
    "    # average signals together if there are more than 1\n",
    "    og_signal_w_b71_averaged = {}\n",
    "    for og in og_signal_w_b71:\n",
    "        lst = og_signal_w_b71[og]\n",
    "        if len(lst) > 1:\n",
    "            og_signal_w_b71_averaged[og] = sum(lst) / len(lst)\n",
    "        elif len(lst) == 1:\n",
    "            og_signal_w_b71_averaged[og] = lst[0]\n",
    "        elif len(lst) == 0:\n",
    "            pass\n",
    "        else:\n",
    "            print('wtf')\n",
    "    ## if ogs aren't represented in reference genome, just add median values\n",
    "    median_value = np.median(list(og_signal_w_b71_averaged.values()))\n",
    "    imputed_values = []\n",
    "    for og in genes_per_og_w_b71:\n",
    "        if og not in og_signal_w_b71_averaged:\n",
    "            imputed_values.append(og)\n",
    "            og_signal_w_b71_averaged[og] = median_value\n",
    "    print(len(imputed_values))\n",
    "    with open(output_file, 'w', newline = '') as output_csv:\n",
    "        w = csv.writer(output_csv, delimiter = '\\t')\n",
    "        for key in og_signal_w_b71_averaged:\n",
    "            w.writerow([key, og_signal_w_b71_averaged[key]])"
   ]
  }
 ],
 "metadata": {
  "kernelspec": {
   "display_name": "Python 3.10.5 ('imbalanced_learn')",
   "language": "python",
   "name": "python3"
  },
  "language_info": {
   "codemirror_mode": {
    "name": "ipython",
    "version": 3
   },
   "file_extension": ".py",
   "mimetype": "text/x-python",
   "name": "python",
   "nbconvert_exporter": "python",
   "pygments_lexer": "ipython3",
   "version": "3.10.5 | packaged by conda-forge | (main, Jun 14 2022, 06:57:19) [MSC v.1929 64 bit (AMD64)]"
  },
  "orig_nbformat": 4,
  "vscode": {
   "interpreter": {
    "hash": "c2315821898a4f1de250b11175021d0bad67aa42c758ebaa32223c2f00dcd7fb"
   }
  }
 },
 "nbformat": 4,
 "nbformat_minor": 2
}
